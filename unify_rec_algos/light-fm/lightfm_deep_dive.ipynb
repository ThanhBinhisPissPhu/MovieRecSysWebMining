{
    "cells": [
        {
            "cell_type": "markdown",
            "metadata": {},
            "source": [
                "# LightFM -  Factorization Machine on MovieLens (Python, CPU)"
            ]
        },
        {
            "cell_type": "markdown",
            "metadata": {},
            "source": [
                "\n",
                "\n",
                "## 1. Factorization Machine model\n",
                "\n",
                "### 1.1 Background\n",
                "\n",
                "In general, most recommendation models can be divided into two categories:\n",
                "- Content based model,\n",
                "- Collaborative filtering model.\n",
                "\n",
                "The content-based model recommends based on similarity of the items and/or users using their description/metadata/profile. On the other hand, collaborative filtering model (discussion is limited to matrix factorization approach in this notebook) computes the latent factors of the users and items. It works based on the assumption that if a group of people expressed similar opinions on an item, these people would tend to have similar opinions on other items. For further background and detailed explanation between these two approaches, the reader can refer to machine learning literatures [3, 4].\n",
                "\n",
                "The choice between the two models is largely based on the data availability. For example, the collaborative filtering model is usually adopted and effective when sufficient ratings/feedbacks have been recorded for a group of users and items.\n",
                "\n",
                "However, if there is a lack of ratings, content based model can be used provided that the metadata of the users and items are available. This is also the common approach to address the cold-start issues, where there are insufficient historical collaborative interactions available to model new users and/or items.\n",
                "\n",
                "\n",
                "### 1.2 Factorization Machine algorithm\n",
                "\n",
                "In view of the above problems, there have been a number of proposals to address the cold-start issues by combining both content-based and collaborative filtering approaches. The Factorization Machine model is among one of the solutions proposed [1].  \n",
                "\n",
                "In general, most approaches proposed different ways of assessing and/or combining the feature data in conjunction with the collaborative information.\n",
                "\n",
                "### 1.3 LightFM package \n",
                "\n",
                "LightFM is a Python implementation of a Factorization Machine recommendation algorithm for both implicit and explicit feedbacks [1].\n",
                "\n",
                "It is a Factorization Machine model which represents users and items as linear combinations of their content features’ latent factors. The model learns **embeddings or latent representations of the users and items in such a way that it encodes user preferences over items**. These representations produce scores for every item for a given user; items scored highly are more likely to be interesting to the user.\n",
                "\n",
                "The user and item embeddings are estimated for every feature, and these features are then added together to be the final representations for users and items. \n",
                "\n",
                "For example, for user i, the model retrieves the i-th row of the feature matrix to find the features with non-zero weights. The embeddings for these features will then be added together to become the user representation e.g. if user 10 has weight 1 in the 5th column of the user feature matrix, and weight 3 in the 20th column, the user 10’s representation is the sum of embedding for the 5th and the 20th features multiplying their corresponding weights. The representation for each items is computed in the same approach. \n",
                "\n",
                "#### 1.3.1 Modelling approach\n",
                "\n",
                "Let $U$ be the set of users and $I$ be the set of items, and each user can be described by a set of user features $f_{u} \\subset F^{U}$ whilst each items can be described by item features $f_{i} \\subset F^{I}$. Both $F^{U}$ and $F^{I}$ are all the features which fully describe all users and items. \n",
                "\n",
                "The LightFM model operates based binary feedbacks, the ratings will be normalised into two groups. The user-item interaction pairs $(u,i) \\in U\\times I$ are the union of positive (favourable reviews) $S^+$ and negative interactions (negative reviews) $S^-$ for explicit ratings. For implicit feedbacks, these can be the observed and not observed interactions respectively.\n",
                "\n",
                "For each user and item feature, their embeddings are $e_{f}^{U}$ and $e_{f}^{I}$ respectively. Furthermore, each feature is also has a scalar bias term ($b_U^f$ for user and $b_I^f$ for item features). The embedding (latent representation) of user $u$ and item $i$ are the sum of its respective features’ latent vectors:\n",
                "\n",
                "$$ \n",
                "q_{u} = \\sum_{j \\in f_{u}} e_{j}^{U}\n",
                "$$\n",
                "\n",
                "$$\n",
                "p_{i} = \\sum_{j \\in f_{i}} e_{j}^{I}\n",
                "$$\n",
                "\n",
                "Similarly the biases for user $u$ and item $i$ are the sum of its respective bias vectors. These variables capture the variation in behaviour across users and items:\n",
                "\n",
                "$$\n",
                "b_{u} = \\sum_{j \\in f_{u}} b_{j}^{U}\n",
                "$$\n",
                "\n",
                "$$\n",
                "b_{i} = \\sum_{j \\in f_{i}} b_{j}^{I}\n",
                "$$\n",
                "\n",
                "In LightFM, the representation for each user/item is a linear weighted sum of its feature vectors.\n",
                "\n",
                "The prediction for user $u$ and item $i$ can be modelled as sigmoid of the dot product of user and item vectors, adjusted by its feature biases as follows:\n",
                "\n",
                "$$\n",
                "\\hat{r}_{ui} = \\sigma (q_{u} \\cdot p_{i} + b_{u} + b_{i})\n",
                "$$\n",
                "\n",
                "As the LightFM is constructed to predict binary outcomes e.g. $S^+$ and $S^-$, the function $\\sigma()$ is based on the [sigmoid function](https://mathworld.wolfram.com/SigmoidFunction.html). \n",
                "\n",
                "The LightFM algorithm estimates interaction latent vectors and bias for features. For model fitting, the cost function of the model consists of maximising the likelihood of data conditional on the parameters described above using stochastic gradient descent. The likelihood can be expressed as follows:\n",
                "\n",
                "$$\n",
                "L = \\prod_{(u,i) \\in S+}\\hat{r}_{ui} \\times \\prod_{(u,i) \\in S-}1 - \\hat{r}_{ui}\n",
                "$$\n",
                "\n",
                "Note that if the feature latent vectors are not available, the algorithm will behaves like a [logistic matrix factorisation model](http://stanford.edu/~rezab/nips2014workshop/submits/logmat.pdf)."
            ]
        },
        {
            "cell_type": "markdown",
            "metadata": {},
            "source": [
                "## 2. Movie recommender with LightFM using only explicit feedbacks"
            ]
        },
        {
            "cell_type": "markdown",
            "metadata": {},
            "source": [
                "### 2.1 Import libraries"
            ]
        },
        {
            "cell_type": "code",
            "execution_count": 1,
            "metadata": {},
            "outputs": [
                {
                    "name": "stderr",
                    "output_type": "stream",
                    "text": [
                        "/Users/quocdetran/miniforge3/lib/python3.10/site-packages/lightfm/_lightfm_fast.py:9: UserWarning: LightFM was compiled without OpenMP support. Only a single thread will be used.\n",
                        "  warnings.warn(\n"
                    ]
                },
                {
                    "name": "stdout",
                    "output_type": "stream",
                    "text": [
                        "System version: 3.10.8 (main, Nov 24 2022, 08:08:27) [Clang 14.0.6 ]\n",
                        "LightFM version: 1.17\n"
                    ]
                },
                {
                    "name": "stderr",
                    "output_type": "stream",
                    "text": [
                        "/Users/quocdetran/miniforge3/lib/python3.10/site-packages/pandera/engines/pandas_engine.py:67: UserWarning: Using typeguard < 3. Generic types like List[TYPE], Dict[TYPE, TYPE] will only validate the first element in the collection.\n",
                        "  warnings.warn(\n"
                    ]
                }
            ],
            "source": [
                "import os\n",
                "import sys\n",
                "import itertools\n",
                "import pandas as pd\n",
                "import numpy as np\n",
                "import matplotlib.pyplot as plt\n",
                "import seaborn as sns\n",
                "\n",
                "import lightfm\n",
                "from lightfm import LightFM\n",
                "from lightfm.data import Dataset\n",
                "from lightfm import cross_validation\n",
                "from lightfm.evaluation import precision_at_k as lightfm_prec_at_k\n",
                "from lightfm.evaluation import recall_at_k as lightfm_recall_at_k\n",
                "\n",
                "from utils.python_evaluation import precision_at_k, recall_at_k\n",
                "from utils.timer import Timer\n",
                "import movielens\n",
                "from lightfm_utils import (\n",
                "    track_model_metrics,\n",
                "    prepare_test_df,\n",
                "    prepare_all_predictions,\n",
                "    compare_metric,\n",
                "    similar_users,\n",
                "    similar_items,\n",
                ")\n",
                "from utils.notebook_utils import store_metadata\n",
                "\n",
                "print(\"System version: {}\".format(sys.version))\n",
                "print(\"LightFM version: {}\".format(lightfm.__version__))\n"
            ]
        },
        {
            "cell_type": "markdown",
            "metadata": {},
            "source": [
                "### 2.2 Defining variables"
            ]
        },
        {
            "cell_type": "code",
            "execution_count": 35,
            "metadata": {
                "tags": [
                    "parameters"
                ]
            },
            "outputs": [],
            "source": [
                "# Select MovieLens data size\n",
                "MOVIELENS_DATA_SIZE = '100k'\n",
                "\n",
                "# default number of recommendations\n",
                "K = 10\n",
                "# percentage of data used for testing\n",
                "TEST_PERCENTAGE = 0.25\n",
                "# model learning rate\n",
                "LEARNING_RATE = 0.25\n",
                "# no of latent factors\n",
                "NO_COMPONENTS = 20\n",
                "# no of epochs to fit model\n",
                "NO_EPOCHS = 20\n",
                "# no of threads to fit model\n",
                "NO_THREADS = 32\n",
                "# regularisation for both user and item features\n",
                "ITEM_ALPHA = 1e-6\n",
                "USER_ALPHA = 1e-6\n",
                "\n",
                "# seed for pseudonumber generations\n",
                "SEED = 42"
            ]
        },
        {
            "cell_type": "markdown",
            "metadata": {},
            "source": [
                "### 2.2 Retrieve data"
            ]
        },
        {
            "cell_type": "code",
            "execution_count": 36,
            "metadata": {
                "scrolled": true
            },
            "outputs": [
                {
                    "name": "stderr",
                    "output_type": "stream",
                    "text": [
                        "100%|██████████| 4.81k/4.81k [00:02<00:00, 1.77kKB/s]\n"
                    ]
                },
                {
                    "data": {
                        "text/html": [
                            "<div>\n",
                            "<style scoped>\n",
                            "    .dataframe tbody tr th:only-of-type {\n",
                            "        vertical-align: middle;\n",
                            "    }\n",
                            "\n",
                            "    .dataframe tbody tr th {\n",
                            "        vertical-align: top;\n",
                            "    }\n",
                            "\n",
                            "    .dataframe thead th {\n",
                            "        text-align: right;\n",
                            "    }\n",
                            "</style>\n",
                            "<table border=\"1\" class=\"dataframe\">\n",
                            "  <thead>\n",
                            "    <tr style=\"text-align: right;\">\n",
                            "      <th></th>\n",
                            "      <th>userID</th>\n",
                            "      <th>itemID</th>\n",
                            "      <th>rating</th>\n",
                            "      <th>genre</th>\n",
                            "    </tr>\n",
                            "  </thead>\n",
                            "  <tbody>\n",
                            "    <tr>\n",
                            "      <th>75721</th>\n",
                            "      <td>498</td>\n",
                            "      <td>693</td>\n",
                            "      <td>3.0</td>\n",
                            "      <td>Drama</td>\n",
                            "    </tr>\n",
                            "    <tr>\n",
                            "      <th>80184</th>\n",
                            "      <td>642</td>\n",
                            "      <td>542</td>\n",
                            "      <td>5.0</td>\n",
                            "      <td>Animation|Children's|Musical|Romance</td>\n",
                            "    </tr>\n",
                            "    <tr>\n",
                            "      <th>19864</th>\n",
                            "      <td>58</td>\n",
                            "      <td>135</td>\n",
                            "      <td>4.0</td>\n",
                            "      <td>Drama|Mystery|Sci-Fi|Thriller</td>\n",
                            "    </tr>\n",
                            "    <tr>\n",
                            "      <th>76699</th>\n",
                            "      <td>495</td>\n",
                            "      <td>674</td>\n",
                            "      <td>3.0</td>\n",
                            "      <td>Horror</td>\n",
                            "    </tr>\n",
                            "    <tr>\n",
                            "      <th>92991</th>\n",
                            "      <td>618</td>\n",
                            "      <td>735</td>\n",
                            "      <td>3.0</td>\n",
                            "      <td>Drama</td>\n",
                            "    </tr>\n",
                            "  </tbody>\n",
                            "</table>\n",
                            "</div>"
                        ],
                        "text/plain": [
                            "       userID  itemID  rating                                 genre\n",
                            "75721     498     693     3.0                                 Drama\n",
                            "80184     642     542     5.0  Animation|Children's|Musical|Romance\n",
                            "19864      58     135     4.0         Drama|Mystery|Sci-Fi|Thriller\n",
                            "76699     495     674     3.0                                Horror\n",
                            "92991     618     735     3.0                                 Drama"
                        ]
                    },
                    "execution_count": 36,
                    "metadata": {},
                    "output_type": "execute_result"
                }
            ],
            "source": [
                "data = movielens.load_pandas_df(\n",
                "    size=MOVIELENS_DATA_SIZE,\n",
                "    genres_col='genre',\n",
                "    header=[\"userID\", \"itemID\", \"rating\"]\n",
                ")\n",
                "# quick look at the data\n",
                "data.sample(5, random_state=SEED)"
            ]
        },
        {
            "cell_type": "markdown",
            "metadata": {},
            "source": [
                "### 2.3 Prepare data"
            ]
        },
        {
            "cell_type": "markdown",
            "metadata": {},
            "source": [
                "Before fitting the LightFM model, we need to create an instance of `Dataset` which holds the interaction matrix."
            ]
        },
        {
            "cell_type": "code",
            "execution_count": 37,
            "metadata": {},
            "outputs": [],
            "source": [
                "dataset = Dataset()"
            ]
        },
        {
            "cell_type": "markdown",
            "metadata": {},
            "source": [
                "The `fit` method creates the user/item id mappings."
            ]
        },
        {
            "cell_type": "code",
            "execution_count": 38,
            "metadata": {},
            "outputs": [
                {
                    "name": "stdout",
                    "output_type": "stream",
                    "text": [
                        "Num users: 943, num_topics: 1682.\n"
                    ]
                }
            ],
            "source": [
                "dataset.fit(users=data['userID'], \n",
                "            items=data['itemID'])\n",
                "\n",
                "# quick check to determine the number of unique users and items in the data\n",
                "num_users, num_topics = dataset.interactions_shape()\n",
                "print(f'Num users: {num_users}, num_topics: {num_topics}.')"
            ]
        },
        {
            "cell_type": "markdown",
            "metadata": {},
            "source": [
                "Next is to build the interaction matrix. The `build_interactions` method returns 2 COO sparse matrices, namely the `interactions` and `weights` matrices."
            ]
        },
        {
            "cell_type": "code",
            "execution_count": 39,
            "metadata": {},
            "outputs": [],
            "source": [
                "(interactions, weights) = dataset.build_interactions(data.iloc[:, 0:3].values)"
            ]
        },
        {
            "cell_type": "markdown",
            "metadata": {},
            "source": [
                "LightLM works slightly differently compared to other packages as it expects the train and test sets to have same dimension. Therefore the conventional train test split will not work.\n",
                "\n",
                "The package has included the `cross_validation.random_train_test_split` method to split the interaction data and splits it into two disjoint training and test sets. \n",
                "\n",
                "However, note that **it does not validate the interactions in the test set to guarantee all items and users have historical interactions in the training set**. Therefore this may result into a partial cold-start problem in the test set."
            ]
        },
        {
            "cell_type": "code",
            "execution_count": 40,
            "metadata": {},
            "outputs": [],
            "source": [
                "train_interactions, test_interactions = cross_validation.random_train_test_split(\n",
                "    interactions, test_percentage=TEST_PERCENTAGE,\n",
                "    random_state=np.random.RandomState(SEED))"
            ]
        },
        {
            "cell_type": "markdown",
            "metadata": {},
            "source": [
                "Double check the size of both the train and test sets."
            ]
        },
        {
            "cell_type": "code",
            "execution_count": 41,
            "metadata": {},
            "outputs": [
                {
                    "name": "stdout",
                    "output_type": "stream",
                    "text": [
                        "Shape of train interactions: (943, 1682)\n",
                        "Shape of test interactions: (943, 1682)\n"
                    ]
                }
            ],
            "source": [
                "print(f\"Shape of train interactions: {train_interactions.shape}\")\n",
                "print(f\"Shape of test interactions: {test_interactions.shape}\")"
            ]
        },
        {
            "cell_type": "markdown",
            "metadata": {},
            "source": [
                "### 2.4 Fit the LightFM model"
            ]
        },
        {
            "cell_type": "markdown",
            "metadata": {},
            "source": [
                "In this notebook, the LightFM model will be using the weighted Approximate-Rank Pairwise (WARP) as the loss. Further explanation on the topic can be found [here](https://making.lyst.com/lightfm/docs/examples/warp_loss.html#learning-to-rank-using-the-warp-loss).\n",
                "\n",
                "\n",
                "In general, it maximises the rank of positive examples by repeatedly sampling negative examples until a rank violation has been located. This approach is recommended when only positive interactions are present."
            ]
        },
        {
            "cell_type": "code",
            "execution_count": 42,
            "metadata": {
                "scrolled": true
            },
            "outputs": [],
            "source": [
                "model1 = LightFM(loss='warp', no_components=NO_COMPONENTS, \n",
                "                 learning_rate=LEARNING_RATE,                 \n",
                "                 random_state=np.random.RandomState(SEED))"
            ]
        },
        {
            "cell_type": "markdown",
            "metadata": {},
            "source": [
                "The LightFM model can be fitted with the following code:"
            ]
        },
        {
            "cell_type": "code",
            "execution_count": 43,
            "metadata": {},
            "outputs": [],
            "source": [
                "model1.fit(interactions=train_interactions,\n",
                "          epochs=NO_EPOCHS);"
            ]
        },
        {
            "cell_type": "markdown",
            "metadata": {},
            "source": [
                "### 2.5 Prepare model evaluation data"
            ]
        },
        {
            "cell_type": "markdown",
            "metadata": {},
            "source": [
                "Before we can evaluate the fitted model and to get the data into a format which is compatible with the existing evaluation methods within this repo, the data needs to be massaged slightly.\n",
                "\n",
                "First the train/test indices need to be extracted from the `lightfm.cross_validation` method as follows:"
            ]
        },
        {
            "cell_type": "code",
            "execution_count": 44,
            "metadata": {},
            "outputs": [],
            "source": [
                "uids, iids, interaction_data = cross_validation._shuffle(\n",
                "    interactions.row, interactions.col, interactions.data, \n",
                "    random_state=np.random.RandomState(SEED))\n",
                "\n",
                "cutoff = int((1.0 - TEST_PERCENTAGE) * len(uids))\n",
                "test_idx = slice(cutoff, None)"
            ]
        },
        {
            "cell_type": "markdown",
            "metadata": {},
            "source": [
                "Then the the mapping between internal and external representation of the user and item are extracted as follows:"
            ]
        },
        {
            "cell_type": "code",
            "execution_count": 45,
            "metadata": {},
            "outputs": [],
            "source": [
                "uid_map, ufeature_map, iid_map, ifeature_map = dataset.mapping()"
            ]
        },
        {
            "cell_type": "markdown",
            "metadata": {},
            "source": [
                "Once the train/test indices and mapping are ready, the test dataframe can be constructed as follows:"
            ]
        },
        {
            "cell_type": "code",
            "execution_count": 46,
            "metadata": {},
            "outputs": [
                {
                    "name": "stdout",
                    "output_type": "stream",
                    "text": [
                        "Took 0.9 seconds for prepare and predict test data.\n"
                    ]
                }
            ],
            "source": [
                "with Timer() as test_time:\n",
                "    test_df = prepare_test_df(test_idx, uids, iids, uid_map, iid_map, weights)\n",
                "print(f\"Took {test_time.interval:.1f} seconds for prepare and predict test data.\")  \n",
                "time_reco1 = test_time.interval"
            ]
        },
        {
            "cell_type": "markdown",
            "metadata": {},
            "source": [
                "And samples of the test dataframe:"
            ]
        },
        {
            "cell_type": "code",
            "execution_count": 47,
            "metadata": {},
            "outputs": [
                {
                    "data": {
                        "text/html": [
                            "<div>\n",
                            "<style scoped>\n",
                            "    .dataframe tbody tr th:only-of-type {\n",
                            "        vertical-align: middle;\n",
                            "    }\n",
                            "\n",
                            "    .dataframe tbody tr th {\n",
                            "        vertical-align: top;\n",
                            "    }\n",
                            "\n",
                            "    .dataframe thead th {\n",
                            "        text-align: right;\n",
                            "    }\n",
                            "</style>\n",
                            "<table border=\"1\" class=\"dataframe\">\n",
                            "  <thead>\n",
                            "    <tr style=\"text-align: right;\">\n",
                            "      <th></th>\n",
                            "      <th>userID</th>\n",
                            "      <th>itemID</th>\n",
                            "      <th>rating</th>\n",
                            "    </tr>\n",
                            "  </thead>\n",
                            "  <tbody>\n",
                            "    <tr>\n",
                            "      <th>6868</th>\n",
                            "      <td>324</td>\n",
                            "      <td>332</td>\n",
                            "      <td>3.0</td>\n",
                            "    </tr>\n",
                            "    <tr>\n",
                            "      <th>24016</th>\n",
                            "      <td>153</td>\n",
                            "      <td>172</td>\n",
                            "      <td>1.0</td>\n",
                            "    </tr>\n",
                            "    <tr>\n",
                            "      <th>9668</th>\n",
                            "      <td>933</td>\n",
                            "      <td>218</td>\n",
                            "      <td>3.0</td>\n",
                            "    </tr>\n",
                            "    <tr>\n",
                            "      <th>13640</th>\n",
                            "      <td>862</td>\n",
                            "      <td>60</td>\n",
                            "      <td>5.0</td>\n",
                            "    </tr>\n",
                            "    <tr>\n",
                            "      <th>14018</th>\n",
                            "      <td>159</td>\n",
                            "      <td>930</td>\n",
                            "      <td>4.0</td>\n",
                            "    </tr>\n",
                            "  </tbody>\n",
                            "</table>\n",
                            "</div>"
                        ],
                        "text/plain": [
                            "       userID  itemID  rating\n",
                            "6868      324     332     3.0\n",
                            "24016     153     172     1.0\n",
                            "9668      933     218     3.0\n",
                            "13640     862      60     5.0\n",
                            "14018     159     930     4.0"
                        ]
                    },
                    "execution_count": 47,
                    "metadata": {},
                    "output_type": "execute_result"
                }
            ],
            "source": [
                "test_df.sample(5, random_state=SEED)"
            ]
        },
        {
            "cell_type": "markdown",
            "metadata": {},
            "source": [
                "In addition, the predictions of all unseen user-item pairs (e.g. removing those seen in the training data) can be prepared as follows:"
            ]
        },
        {
            "cell_type": "code",
            "execution_count": 48,
            "metadata": {},
            "outputs": [
                {
                    "name": "stdout",
                    "output_type": "stream",
                    "text": [
                        "Took 131.3 seconds for prepare and predict all data.\n"
                    ]
                }
            ],
            "source": [
                "with Timer() as test_time:\n",
                "    all_predictions = prepare_all_predictions(data, uid_map, iid_map, \n",
                "                                              interactions=train_interactions,\n",
                "                                              model=model1, \n",
                "                                              num_threads=NO_THREADS)\n",
                "print(f\"Took {test_time.interval:.1f} seconds for prepare and predict all data.\")\n",
                "time_reco2 = test_time.interval"
            ]
        },
        {
            "cell_type": "markdown",
            "metadata": {},
            "source": [
                "Samples of the `all_predictions` dataframe:"
            ]
        },
        {
            "cell_type": "code",
            "execution_count": 49,
            "metadata": {},
            "outputs": [
                {
                    "data": {
                        "text/html": [
                            "<div>\n",
                            "<style scoped>\n",
                            "    .dataframe tbody tr th:only-of-type {\n",
                            "        vertical-align: middle;\n",
                            "    }\n",
                            "\n",
                            "    .dataframe tbody tr th {\n",
                            "        vertical-align: top;\n",
                            "    }\n",
                            "\n",
                            "    .dataframe thead th {\n",
                            "        text-align: right;\n",
                            "    }\n",
                            "</style>\n",
                            "<table border=\"1\" class=\"dataframe\">\n",
                            "  <thead>\n",
                            "    <tr style=\"text-align: right;\">\n",
                            "      <th></th>\n",
                            "      <th>userID</th>\n",
                            "      <th>itemID</th>\n",
                            "      <th>prediction</th>\n",
                            "    </tr>\n",
                            "  </thead>\n",
                            "  <tbody>\n",
                            "    <tr>\n",
                            "      <th>471550</th>\n",
                            "      <td>626</td>\n",
                            "      <td>1058</td>\n",
                            "      <td>79.402298</td>\n",
                            "    </tr>\n",
                            "    <tr>\n",
                            "      <th>373280</th>\n",
                            "      <td>474</td>\n",
                            "      <td>1564</td>\n",
                            "      <td>-32.299194</td>\n",
                            "    </tr>\n",
                            "    <tr>\n",
                            "      <th>1271323</th>\n",
                            "      <td>75</td>\n",
                            "      <td>1452</td>\n",
                            "      <td>-104.067802</td>\n",
                            "    </tr>\n",
                            "    <tr>\n",
                            "      <th>310738</th>\n",
                            "      <td>352</td>\n",
                            "      <td>1381</td>\n",
                            "      <td>-111.917709</td>\n",
                            "    </tr>\n",
                            "    <tr>\n",
                            "      <th>1323612</th>\n",
                            "      <td>68</td>\n",
                            "      <td>1584</td>\n",
                            "      <td>-29.134758</td>\n",
                            "    </tr>\n",
                            "  </tbody>\n",
                            "</table>\n",
                            "</div>"
                        ],
                        "text/plain": [
                            "         userID  itemID  prediction\n",
                            "471550      626    1058   79.402298\n",
                            "373280      474    1564  -32.299194\n",
                            "1271323      75    1452 -104.067802\n",
                            "310738      352    1381 -111.917709\n",
                            "1323612      68    1584  -29.134758"
                        ]
                    },
                    "execution_count": 49,
                    "metadata": {},
                    "output_type": "execute_result"
                }
            ],
            "source": [
                "all_predictions.sample(5, random_state=SEED)"
            ]
        },
        {
            "cell_type": "markdown",
            "metadata": {},
            "source": [
                "Note that the **raw prediction values from the LightFM model are for ranking purposes only**, they should not be used directly. The magnitude and sign of these values do not have any specific interpretation."
            ]
        },
        {
            "cell_type": "markdown",
            "metadata": {},
            "source": [
                "### 2.6 Model evaluation"
            ]
        },
        {
            "cell_type": "markdown",
            "metadata": {},
            "source": [
                "Once the evaluation data are ready, they can be passed into to the repo's evaluation methods as follows. The performance of the model will be tracked using both Precision@K and Recall@K.\n",
                "\n",
                "In addition, the results have also being compared with those computed from LightFM's own evaluation methods to ensure accuracy."
            ]
        },
        {
            "cell_type": "code",
            "execution_count": 50,
            "metadata": {},
            "outputs": [
                {
                    "name": "stdout",
                    "output_type": "stream",
                    "text": [
                        "------ Using Repo's evaluation methods ------\n",
                        "Precision@K:\t0.131601\n",
                        "Recall@K:\t0.038056\n",
                        "\n",
                        "------ Using LightFM evaluation methods ------\n",
                        "Precision@K:\t0.131601\n",
                        "Recall@K:\t0.038056\n"
                    ]
                }
            ],
            "source": [
                "with Timer() as test_time:\n",
                "    eval_precision = precision_at_k(rating_true=test_df, \n",
                "                                rating_pred=all_predictions, k=K)\n",
                "    eval_recall = recall_at_k(test_df, all_predictions, k=K)\n",
                "time_reco3 = test_time.interval\n",
                "\n",
                "with Timer() as test_time:\n",
                "    eval_precision_lfm = lightfm_prec_at_k(model1, test_interactions, \n",
                "                                           train_interactions, k=K).mean()\n",
                "    eval_recall_lfm = lightfm_recall_at_k(model1, test_interactions, \n",
                "                                          train_interactions, k=K).mean()\n",
                "time_lfm = test_time.interval\n",
                "    \n",
                "print(\n",
                "    \"------ Using Repo's evaluation methods ------\",\n",
                "    f\"Precision@K:\\t{eval_precision:.6f}\",\n",
                "    f\"Recall@K:\\t{eval_recall:.6f}\",\n",
                "    \"\\n------ Using LightFM evaluation methods ------\",\n",
                "    f\"Precision@K:\\t{eval_precision_lfm:.6f}\",\n",
                "    f\"Recall@K:\\t{eval_recall_lfm:.6f}\", \n",
                "    sep='\\n')"
            ]
        },
        {
            "cell_type": "markdown",
            "metadata": {},
            "source": [
                "## 3. Movie recommender with LightFM using explicit feedbacks and additional item and user features"
            ]
        },
        {
            "cell_type": "markdown",
            "metadata": {},
            "source": [
                "As the LightFM was designed to incorporates both user and item metadata, the model can be extended to include additional features such as movie genres and user occupations."
            ]
        },
        {
            "cell_type": "markdown",
            "metadata": {},
            "source": [
                "### 3.1 Extract and prepare movie genres"
            ]
        },
        {
            "cell_type": "markdown",
            "metadata": {},
            "source": [
                "In this notebook, the movie's genres will be used as the item metadata. As the genres have already been loaded during the initial data import, it can be processed directly as follows:"
            ]
        },
        {
            "cell_type": "code",
            "execution_count": 51,
            "metadata": {},
            "outputs": [],
            "source": [
                "# split the genre based on the separator\n",
                "movie_genre = [x.split('|') for x in data['genre']]"
            ]
        },
        {
            "cell_type": "code",
            "execution_count": 52,
            "metadata": {},
            "outputs": [
                {
                    "data": {
                        "text/plain": [
                            "['Action',\n",
                            " 'Adventure',\n",
                            " 'Animation',\n",
                            " \"Children's\",\n",
                            " 'Comedy',\n",
                            " 'Crime',\n",
                            " 'Documentary',\n",
                            " 'Drama',\n",
                            " 'Fantasy',\n",
                            " 'Film-Noir',\n",
                            " 'Horror',\n",
                            " 'Musical',\n",
                            " 'Mystery',\n",
                            " 'Romance',\n",
                            " 'Sci-Fi',\n",
                            " 'Thriller',\n",
                            " 'War',\n",
                            " 'Western',\n",
                            " 'unknown']"
                        ]
                    },
                    "execution_count": 52,
                    "metadata": {},
                    "output_type": "execute_result"
                }
            ],
            "source": [
                "# retrieve the all the unique genres in the data\n",
                "all_movie_genre = sorted(list(set(itertools.chain.from_iterable(movie_genre))))\n",
                "# quick look at the all the genres within the data\n",
                "all_movie_genre"
            ]
        },
        {
            "cell_type": "markdown",
            "metadata": {},
            "source": [
                "### 3.2 Retrieve and prepare movie genres"
            ]
        },
        {
            "cell_type": "markdown",
            "metadata": {},
            "source": [
                "Further user features can be included as part of the model fitting process. In this notebook, **only the occupation of each user will be included** but the feature list can be extended easily.\n"
            ]
        },
        {
            "cell_type": "markdown",
            "metadata": {},
            "source": [
                "#### 3.2.1 Retrieve and merge data"
            ]
        },
        {
            "cell_type": "markdown",
            "metadata": {},
            "source": [
                "The user features can be retrieved directly from the grouplens website and merged with the existing data as follows:"
            ]
        },
        {
            "cell_type": "code",
            "execution_count": 53,
            "metadata": {},
            "outputs": [
                {
                    "data": {
                        "text/html": [
                            "<div>\n",
                            "<style scoped>\n",
                            "    .dataframe tbody tr th:only-of-type {\n",
                            "        vertical-align: middle;\n",
                            "    }\n",
                            "\n",
                            "    .dataframe tbody tr th {\n",
                            "        vertical-align: top;\n",
                            "    }\n",
                            "\n",
                            "    .dataframe thead th {\n",
                            "        text-align: right;\n",
                            "    }\n",
                            "</style>\n",
                            "<table border=\"1\" class=\"dataframe\">\n",
                            "  <thead>\n",
                            "    <tr style=\"text-align: right;\">\n",
                            "      <th></th>\n",
                            "      <th>userID</th>\n",
                            "      <th>itemID</th>\n",
                            "      <th>rating</th>\n",
                            "      <th>genre</th>\n",
                            "      <th>occupation</th>\n",
                            "    </tr>\n",
                            "  </thead>\n",
                            "  <tbody>\n",
                            "    <tr>\n",
                            "      <th>75721</th>\n",
                            "      <td>455</td>\n",
                            "      <td>402</td>\n",
                            "      <td>4.0</td>\n",
                            "      <td>Comedy|Romance|Thriller</td>\n",
                            "      <td>administrator</td>\n",
                            "    </tr>\n",
                            "    <tr>\n",
                            "      <th>80184</th>\n",
                            "      <td>746</td>\n",
                            "      <td>161</td>\n",
                            "      <td>3.0</td>\n",
                            "      <td>Action|Romance</td>\n",
                            "      <td>engineer</td>\n",
                            "    </tr>\n",
                            "    <tr>\n",
                            "      <th>19864</th>\n",
                            "      <td>268</td>\n",
                            "      <td>12</td>\n",
                            "      <td>4.0</td>\n",
                            "      <td>Crime|Thriller</td>\n",
                            "      <td>engineer</td>\n",
                            "    </tr>\n",
                            "    <tr>\n",
                            "      <th>76699</th>\n",
                            "      <td>600</td>\n",
                            "      <td>1004</td>\n",
                            "      <td>4.0</td>\n",
                            "      <td>Drama|Western</td>\n",
                            "      <td>programmer</td>\n",
                            "    </tr>\n",
                            "    <tr>\n",
                            "      <th>92991</th>\n",
                            "      <td>396</td>\n",
                            "      <td>125</td>\n",
                            "      <td>3.0</td>\n",
                            "      <td>Drama|Romance</td>\n",
                            "      <td>engineer</td>\n",
                            "    </tr>\n",
                            "  </tbody>\n",
                            "</table>\n",
                            "</div>"
                        ],
                        "text/plain": [
                            "       userID  itemID  rating                    genre     occupation\n",
                            "75721     455     402     4.0  Comedy|Romance|Thriller  administrator\n",
                            "80184     746     161     3.0           Action|Romance       engineer\n",
                            "19864     268      12     4.0           Crime|Thriller       engineer\n",
                            "76699     600    1004     4.0            Drama|Western     programmer\n",
                            "92991     396     125     3.0            Drama|Romance       engineer"
                        ]
                    },
                    "execution_count": 53,
                    "metadata": {},
                    "output_type": "execute_result"
                }
            ],
            "source": [
                "user_feature_URL = 'http://files.grouplens.org/datasets/movielens/ml-100k/u.user'\n",
                "columns = ['userID','age','gender','occupation','zipcode']\n",
                "user_data = pd.read_table(user_feature_URL, sep='|', header=None, names=columns)\n",
                "\n",
                "# merging user feature with existing data\n",
                "new_data = data.merge(user_data[['userID','occupation']], left_on='userID', right_on='userID')\n",
                "# quick look at the merged data\n",
                "new_data.sample(5, random_state=SEED)"
            ]
        },
        {
            "cell_type": "markdown",
            "metadata": {},
            "source": [
                "#### 3.2.2 Extract and prepare user occupations"
            ]
        },
        {
            "cell_type": "code",
            "execution_count": 54,
            "metadata": {},
            "outputs": [],
            "source": [
                "# retrieve all the unique occupations in the data\n",
                "all_occupations = sorted(list(set(new_data['occupation'])))"
            ]
        },
        {
            "cell_type": "markdown",
            "metadata": {},
            "source": [
                "### 3.3 Prepare data and features"
            ]
        },
        {
            "cell_type": "markdown",
            "metadata": {},
            "source": [
                "Similar to the previous model, the data is required to be converted into a `Dataset` instance and then create a user/item id mapping with the `fit` method."
            ]
        },
        {
            "cell_type": "code",
            "execution_count": 55,
            "metadata": {},
            "outputs": [],
            "source": [
                "dataset2 = Dataset()\n",
                "dataset2.fit(data['userID'], \n",
                "            data['itemID'], \n",
                "            item_features=all_movie_genre,\n",
                "            user_features=all_occupations)"
            ]
        },
        {
            "cell_type": "markdown",
            "metadata": {},
            "source": [
                "The movie genres are then converted into a item feature matrix using the `build_item_features` method as follows:"
            ]
        },
        {
            "cell_type": "code",
            "execution_count": 56,
            "metadata": {},
            "outputs": [],
            "source": [
                "item_features = dataset2.build_item_features((x, y) for x,y in zip(data.itemID, movie_genre))"
            ]
        },
        {
            "cell_type": "markdown",
            "metadata": {},
            "source": [
                "The user occupations are then converted into an user feature matrix using the `build_user_features` method as follows:"
            ]
        },
        {
            "cell_type": "code",
            "execution_count": 57,
            "metadata": {},
            "outputs": [],
            "source": [
                "user_features = dataset2.build_user_features((x, [y]) for x,y in zip(new_data.userID, new_data['occupation']))"
            ]
        },
        {
            "cell_type": "markdown",
            "metadata": {},
            "source": [
                "Once the item and user features matrices have been completed, the next steps are similar as before, which is to build the interaction matrix and split the interactions into train and test sets as follows:"
            ]
        },
        {
            "cell_type": "code",
            "execution_count": 58,
            "metadata": {},
            "outputs": [],
            "source": [
                "interactions2, weights2 = dataset2.build_interactions(data.iloc[:, 0:3].values)\n",
                "\n",
                "train_interactions2, test_interactions2 = cross_validation.random_train_test_split(\n",
                "    interactions2, \n",
                "    test_percentage=TEST_PERCENTAGE,\n",
                "    random_state=np.random.RandomState(SEED)\n",
                ")"
            ]
        },
        {
            "cell_type": "markdown",
            "metadata": {},
            "source": [
                "### 3.3 Fit the LightFM model with additional user and item features"
            ]
        },
        {
            "cell_type": "markdown",
            "metadata": {},
            "source": [
                "The parameters of the second model will be similar to the first model to facilitates comparison.\n",
                "\n",
                "The model performance at each epoch is also tracked by the same metrics as before."
            ]
        },
        {
            "cell_type": "code",
            "execution_count": 59,
            "metadata": {},
            "outputs": [],
            "source": [
                "model2 = LightFM(loss='warp', no_components=NO_COMPONENTS, \n",
                "                 learning_rate=LEARNING_RATE, \n",
                "                 item_alpha=ITEM_ALPHA,\n",
                "                 user_alpha=USER_ALPHA,\n",
                "                 random_state=np.random.RandomState(SEED)\n",
                "                )"
            ]
        },
        {
            "cell_type": "markdown",
            "metadata": {},
            "source": [
                "The LightFM model can then be fitted:"
            ]
        },
        {
            "cell_type": "code",
            "execution_count": 60,
            "metadata": {},
            "outputs": [
                {
                    "data": {
                        "text/plain": [
                            "<lightfm.lightfm.LightFM at 0x17e7dfd30>"
                        ]
                    },
                    "execution_count": 60,
                    "metadata": {},
                    "output_type": "execute_result"
                }
            ],
            "source": [
                "model2.fit(interactions=train_interactions2,\n",
                "           user_features=user_features,\n",
                "           item_features=item_features,\n",
                "           epochs=NO_EPOCHS\n",
                "           )"
            ]
        },
        {
            "cell_type": "markdown",
            "metadata": {},
            "source": [
                "### 3.4 Prepare model evaluation data"
            ]
        },
        {
            "cell_type": "markdown",
            "metadata": {},
            "source": [
                "Similar to the previous model, the evaluation data needs to be prepared in order to get them into a format consumable with this repo's evaluation methods.\n",
                "\n",
                "Firstly the train/test indices and id mappings are extracted using the new interations matrix as follows:"
            ]
        },
        {
            "cell_type": "code",
            "execution_count": 61,
            "metadata": {},
            "outputs": [],
            "source": [
                "uids, iids, interaction_data = cross_validation._shuffle(\n",
                "    interactions2.row, \n",
                "    interactions2.col, \n",
                "    interactions2.data, \n",
                "    random_state=np.random.RandomState(SEED)\n",
                ")\n",
                "\n",
                "uid_map, ufeature_map, iid_map, ifeature_map = dataset2.mapping()"
            ]
        },
        {
            "cell_type": "markdown",
            "metadata": {},
            "source": [
                "The test dataframe is then constructed as follows:"
            ]
        },
        {
            "cell_type": "code",
            "execution_count": 62,
            "metadata": {},
            "outputs": [
                {
                    "name": "stdout",
                    "output_type": "stream",
                    "text": [
                        "Took 0.9 seconds for prepare and predict test data.\n"
                    ]
                }
            ],
            "source": [
                "with Timer() as test_time:\n",
                "    test_df2 = prepare_test_df(test_idx, uids, iids, uid_map, iid_map, weights2)\n",
                "print(f\"Took {test_time.interval:.1f} seconds for prepare and predict test data.\")  "
            ]
        },
        {
            "cell_type": "markdown",
            "metadata": {},
            "source": [
                "The predictions of all unseen user-item pairs can be prepared as follows:"
            ]
        },
        {
            "cell_type": "code",
            "execution_count": 63,
            "metadata": {},
            "outputs": [
                {
                    "name": "stdout",
                    "output_type": "stream",
                    "text": [
                        "Took 57.9 seconds for prepare and predict all data.\n"
                    ]
                }
            ],
            "source": [
                "with Timer() as test_time:\n",
                "    all_predictions2 = prepare_all_predictions(data, uid_map, iid_map, \n",
                "                                              interactions=train_interactions2,\n",
                "                                               user_features=user_features,\n",
                "                                               item_features=item_features,\n",
                "                                               model=model2,\n",
                "                                               num_threads=NO_THREADS)\n",
                "\n",
                "print(f\"Took {test_time.interval:.1f} seconds for prepare and predict all data.\")"
            ]
        },
        {
            "cell_type": "markdown",
            "metadata": {},
            "source": [
                "### 3.5 Model evaluation and comparison"
            ]
        },
        {
            "cell_type": "markdown",
            "metadata": {},
            "source": [
                "The predictive performance of the new model can be computed and compared with the previous model (which used only the explicit rating) as follows:"
            ]
        },
        {
            "cell_type": "code",
            "execution_count": 64,
            "metadata": {},
            "outputs": [
                {
                    "name": "stdout",
                    "output_type": "stream",
                    "text": [
                        "------ Using only explicit ratings ------\n",
                        "Precision@K:\t0.131601\n",
                        "Recall@K:\t0.038056\n",
                        "\n",
                        "------ Using both implicit and explicit ratings ------\n",
                        "Precision@K:\t0.154507\n",
                        "Recall@K:\t0.057044\n"
                    ]
                }
            ],
            "source": [
                "eval_precision2 = precision_at_k(rating_true=test_df2, \n",
                "                                rating_pred=all_predictions2, k=K)\n",
                "eval_recall2 = recall_at_k(test_df2, all_predictions2, k=K)\n",
                "\n",
                "print(\n",
                "    \"------ Using only explicit ratings ------\",\n",
                "    f\"Precision@K:\\t{eval_precision:.6f}\",\n",
                "    f\"Recall@K:\\t{eval_recall:.6f}\",\n",
                "    \"\\n------ Using both implicit and explicit ratings ------\",\n",
                "    f\"Precision@K:\\t{eval_precision2:.6f}\",\n",
                "    f\"Recall@K:\\t{eval_recall2:.6f}\",\n",
                "    sep='\\n')"
            ]
        },
        {
            "cell_type": "markdown",
            "metadata": {},
            "source": [
                "The new model which used both implicit and explicit data performed consistently better than the previous model which used only the explicit data, thus highlighting the benefits of including such additional features to the model."
            ]
        },
        {
            "cell_type": "markdown",
            "metadata": {},
            "source": [
                "### 3.6 Evaluation metrics comparison"
            ]
        },
        {
            "cell_type": "markdown",
            "metadata": {},
            "source": [
                "Note that the evaluation approaches here are solely for demonstration purposes only.\n",
                "\n",
                "If the reader were using the LightFM package and/or its models, the LightFM's built-in evaluation methods are much more efficient and are the recommended approach for production usage as they are designed and optimised to work with the package. If the reader wants to compare LigthFM with other algorithms in Recommenders repository, it is better to use the evaluation tools in Recommenders.\n",
                "\n",
                "As a comparison, the times recorded to evaluate model1 are shown as follows:"
            ]
        },
        {
            "cell_type": "code",
            "execution_count": 65,
            "metadata": {},
            "outputs": [
                {
                    "name": "stdout",
                    "output_type": "stream",
                    "text": [
                        "------ Using Repo's evaluation methods ------\n",
                        "Time [sec]:\t135.4\n",
                        "\n",
                        "------ Using LightFM evaluation methods ------\n",
                        "Time [sec]:\t0.2\n"
                    ]
                }
            ],
            "source": [
                "print(\n",
                "    \"------ Using Repo's evaluation methods ------\",\n",
                "    f\"Time [sec]:\\t{(time_reco1+time_reco2+time_reco3):.1f}\",\n",
                "    \"\\n------ Using LightFM evaluation methods ------\",\n",
                "    f\"Time [sec]:\\t{time_lfm:.1f}\",\n",
                "    sep='\\n')"
            ]
        },
        {
            "cell_type": "markdown",
            "metadata": {},
            "source": [
                "## 4. Evaluate model fitting process"
            ]
        },
        {
            "cell_type": "markdown",
            "metadata": {},
            "source": [
                "In addition to the inclusion of both implicit and explicit data, the model fitting process can also be monitored in order to determine whether the model is being trained properly. \n",
                "\n",
                "This notebook also includes a `track_model_metrics` method which plots the model's metrics e.g. Precision@K and Recall@K as model fitting progresses.\n",
                "\n",
                "For the first model (using only explicit data), the model fitting progress is shown as follows:"
            ]
        },
        {
            "cell_type": "code",
            "execution_count": 66,
            "metadata": {},
            "outputs": [
                {
                    "name": "stderr",
                    "output_type": "stream",
                    "text": [
                        "/Users/quocdetran/miniforge3/lib/python3.10/site-packages/seaborn/axisgrid.py:123: UserWarning: The figure layout has changed to tight\n",
                        "  self._figure.tight_layout(*args, **kwargs)\n"
                    ]
                },
                {
                    "data": {
                        "image/png": "[encoded data removed]",
                        "text/plain": [
                            "<Figure size 682.5x300 with 2 Axes>"
                        ]
                    },
                    "metadata": {},
                    "output_type": "display_data"
                }
            ],
            "source": [
                "output1, _ = track_model_metrics(model=model1, \n",
                "                                 train_interactions=train_interactions, \n",
                "                                 test_interactions=test_interactions, \n",
                "                                 k=K,\n",
                "                                 no_epochs=NO_EPOCHS, \n",
                "                                 no_threads=NO_THREADS)"
            ]
        },
        {
            "cell_type": "markdown",
            "metadata": {},
            "source": [
                "The second model (with both implicit and explicit data) fitting progress:"
            ]
        },
        {
            "cell_type": "code",
            "execution_count": 67,
            "metadata": {},
            "outputs": [
                {
                    "name": "stderr",
                    "output_type": "stream",
                    "text": [
                        "/Users/quocdetran/miniforge3/lib/python3.10/site-packages/seaborn/axisgrid.py:123: UserWarning: The figure layout has changed to tight\n",
                        "  self._figure.tight_layout(*args, **kwargs)\n"
                    ]
                },
                {
                    "data": {
                        "image/png": "[encoded data removed]",
                        "text/plain": [
                            "<Figure size 682.5x300 with 2 Axes>"
                        ]
                    },
                    "metadata": {},
                    "output_type": "display_data"
                }
            ],
            "source": [
                "output2, _ = track_model_metrics(model=model2, \n",
                "                                 train_interactions=train_interactions2, \n",
                "                                 test_interactions=test_interactions2, \n",
                "                                 k=K,                              \n",
                "                                 no_epochs=NO_EPOCHS, \n",
                "                                 no_threads=NO_THREADS, \n",
                "                                 item_features=item_features,\n",
                "                                 user_features=user_features)"
            ]
        },
        {
            "cell_type": "markdown",
            "metadata": {},
            "source": [
                "These show slightly different behaviour with the two approaches, the reader can then tune the hyperparameters to improve the model fitting process.\n"
            ]
        },
        {
            "cell_type": "markdown",
            "metadata": {},
            "source": [
                "### 4.1 Performance comparison"
            ]
        },
        {
            "cell_type": "markdown",
            "metadata": {},
            "source": [
                "In addition, the model's performance metrics (based on the test dataset) can be plotted together to facilitate easier comparison as follows:"
            ]
        },
        {
            "cell_type": "code",
            "execution_count": 68,
            "metadata": {},
            "outputs": [
                {
                    "data": {
                        "image/png": "[encoded data removed]",
                        "text/plain": [
                            "<Figure size 640x480 with 1 Axes>"
                        ]
                    },
                    "metadata": {},
                    "output_type": "display_data"
                },
                {
                    "data": {
                        "image/png": "[encoded data removed]",
                        "text/plain": [
                            "<Figure size 640x480 with 1 Axes>"
                        ]
                    },
                    "metadata": {},
                    "output_type": "display_data"
                }
            ],
            "source": [
                "for i in ['Precision', 'Recall']:\n",
                "    sns.set_palette(\"Set2\")\n",
                "    plt.figure()\n",
                "    sns.scatterplot(x=\"epoch\", \n",
                "                    y=\"value\", \n",
                "                    hue='data',\n",
                "                    data=compare_metric(df_list = [output1, output2], metric=i)\n",
                "                   ).set_title(f'{i} comparison using test set');"
            ]
        },
        {
            "cell_type": "markdown",
            "metadata": {},
            "source": [
                "Referring to the figures above, it is rather obvious that the number of epochs is too low as the model's performances have not stabilised. Reader can decide on the number of epochs and other hyperparameters to adjust suit the application.\n",
                "\n",
                "As stated previously, it is interesting to see model2 (using both implicit and explicit data) performed consistently better than model1 (using only explicit ratings). "
            ]
        },
        {
            "cell_type": "markdown",
            "metadata": {},
            "source": [
                "## 5. Similar users and items"
            ]
        },
        {
            "cell_type": "markdown",
            "metadata": {},
            "source": [
                "As the LightFM package operates based on latent embeddings, these can be retrieved once the model has been fitted to assess user-user and/or item-item affinity."
            ]
        },
        {
            "cell_type": "markdown",
            "metadata": {},
            "source": [
                "### 5.1 User affinity"
            ]
        },
        {
            "cell_type": "markdown",
            "metadata": {},
            "source": [
                "The user-user affinity can be retrieved with the `get_user_representations` method from the fitted model as follows:"
            ]
        },
        {
            "cell_type": "code",
            "execution_count": 69,
            "metadata": {},
            "outputs": [
                {
                    "data": {
                        "text/plain": [
                            "array([[-0.36526105, -0.93997014,  1.5587535 , ...,  3.3034658 ,\n",
                            "        -2.91121   ,  4.1230993 ],\n",
                            "       [-0.62180626,  0.5978115 ,  2.7201447 , ...,  3.9639876 ,\n",
                            "        -4.4537644 ,  4.3989124 ],\n",
                            "       [ 0.10963611,  1.9513991 ,  1.2529697 , ...,  1.4985468 ,\n",
                            "        -5.9419074 ,  5.024561  ],\n",
                            "       ...,\n",
                            "       [ 1.4337373 , -1.1655674 ,  2.530318  , ...,  2.6764333 ,\n",
                            "        -2.8836186 ,  3.6617525 ],\n",
                            "       [-0.61806446,  0.6009052 ,  2.670812  , ...,  3.8732064 ,\n",
                            "        -4.323731  ,  4.247051  ],\n",
                            "       [-0.90597457,  1.4623547 ,  1.869166  , ...,  3.6809099 ,\n",
                            "        -4.4424863 ,  5.023904  ]], dtype=float32)"
                        ]
                    },
                    "execution_count": 69,
                    "metadata": {},
                    "output_type": "execute_result"
                }
            ],
            "source": [
                "_, user_embeddings = model2.get_user_representations(features=user_features)\n",
                "user_embeddings"
            ]
        },
        {
            "cell_type": "markdown",
            "metadata": {},
            "source": [
                "In order to retrieve the top N similar users, we can use the `similar_users` from `recommenders`. For example, if we want to choose top 10 users most similar to the user 1:"
            ]
        },
        {
            "cell_type": "code",
            "execution_count": 70,
            "metadata": {},
            "outputs": [
                {
                    "data": {
                        "text/html": [
                            "<div>\n",
                            "<style scoped>\n",
                            "    .dataframe tbody tr th:only-of-type {\n",
                            "        vertical-align: middle;\n",
                            "    }\n",
                            "\n",
                            "    .dataframe tbody tr th {\n",
                            "        vertical-align: top;\n",
                            "    }\n",
                            "\n",
                            "    .dataframe thead th {\n",
                            "        text-align: right;\n",
                            "    }\n",
                            "</style>\n",
                            "<table border=\"1\" class=\"dataframe\">\n",
                            "  <thead>\n",
                            "    <tr style=\"text-align: right;\">\n",
                            "      <th></th>\n",
                            "      <th>userID</th>\n",
                            "      <th>score</th>\n",
                            "    </tr>\n",
                            "  </thead>\n",
                            "  <tbody>\n",
                            "    <tr>\n",
                            "      <th>0</th>\n",
                            "      <td>555</td>\n",
                            "      <td>0.999999</td>\n",
                            "    </tr>\n",
                            "    <tr>\n",
                            "      <th>1</th>\n",
                            "      <td>54</td>\n",
                            "      <td>0.999999</td>\n",
                            "    </tr>\n",
                            "    <tr>\n",
                            "      <th>2</th>\n",
                            "      <td>314</td>\n",
                            "      <td>0.999997</td>\n",
                            "    </tr>\n",
                            "    <tr>\n",
                            "      <th>3</th>\n",
                            "      <td>465</td>\n",
                            "      <td>0.999996</td>\n",
                            "    </tr>\n",
                            "    <tr>\n",
                            "      <th>4</th>\n",
                            "      <td>395</td>\n",
                            "      <td>0.999996</td>\n",
                            "    </tr>\n",
                            "    <tr>\n",
                            "      <th>5</th>\n",
                            "      <td>481</td>\n",
                            "      <td>0.999996</td>\n",
                            "    </tr>\n",
                            "    <tr>\n",
                            "      <th>6</th>\n",
                            "      <td>527</td>\n",
                            "      <td>0.999994</td>\n",
                            "    </tr>\n",
                            "    <tr>\n",
                            "      <th>7</th>\n",
                            "      <td>411</td>\n",
                            "      <td>0.999993</td>\n",
                            "    </tr>\n",
                            "    <tr>\n",
                            "      <th>8</th>\n",
                            "      <td>57</td>\n",
                            "      <td>0.999992</td>\n",
                            "    </tr>\n",
                            "    <tr>\n",
                            "      <th>9</th>\n",
                            "      <td>282</td>\n",
                            "      <td>0.999992</td>\n",
                            "    </tr>\n",
                            "  </tbody>\n",
                            "</table>\n",
                            "</div>"
                        ],
                        "text/plain": [
                            "   userID     score\n",
                            "0     555  0.999999\n",
                            "1      54  0.999999\n",
                            "2     314  0.999997\n",
                            "3     465  0.999996\n",
                            "4     395  0.999996\n",
                            "5     481  0.999996\n",
                            "6     527  0.999994\n",
                            "7     411  0.999993\n",
                            "8      57  0.999992\n",
                            "9     282  0.999992"
                        ]
                    },
                    "execution_count": 70,
                    "metadata": {},
                    "output_type": "execute_result"
                }
            ],
            "source": [
                "similar_users(user_id=1, \n",
                "              user_features=user_features, \n",
                "              model=model2)"
            ]
        },
        {
            "cell_type": "markdown",
            "metadata": {},
            "source": [
                "### 5.2 Item affinity"
            ]
        },
        {
            "cell_type": "markdown",
            "metadata": {},
            "source": [
                "Similar to the user affinity, the item-item affinity can be retrieved with the `get_item_representations` method using the fitted model."
            ]
        },
        {
            "cell_type": "code",
            "execution_count": 71,
            "metadata": {
                "scrolled": true
            },
            "outputs": [
                {
                    "data": {
                        "text/plain": [
                            "array([[ 0.23291202,  0.27777126,  0.42313606, ...,  0.51942426,\n",
                            "        -0.7257342 ,  0.6988485 ],\n",
                            "       [ 0.20233557,  0.26332682,  0.5362623 , ...,  0.66752374,\n",
                            "        -0.66811293,  0.7008972 ],\n",
                            "       [ 0.13084736,  0.42250156,  0.46740493, ...,  0.49443874,\n",
                            "        -0.6853804 ,  0.5799067 ],\n",
                            "       ...,\n",
                            "       [ 0.30665764,  0.00140221,  0.2885775 , ...,  0.06709698,\n",
                            "        -0.12861936,  0.05934969],\n",
                            "       [-0.36280292, -0.3352307 ,  0.43937576, ...,  0.84208083,\n",
                            "        -0.26565984,  0.65395176],\n",
                            "       [-0.16880397, -0.26401886,  0.6266676 , ...,  0.5552613 ,\n",
                            "        -0.50051993,  0.5795157 ]], dtype=float32)"
                        ]
                    },
                    "execution_count": 71,
                    "metadata": {},
                    "output_type": "execute_result"
                }
            ],
            "source": [
                "_, item_embeddings = model2.get_item_representations(features=item_features)\n",
                "item_embeddings"
            ]
        },
        {
            "cell_type": "markdown",
            "metadata": {},
            "source": [
                "The function to retrieve the top N similar items is similar to similar_users() above. For example, if we want to choose top 10 items most similar to the item 10:"
            ]
        },
        {
            "cell_type": "code",
            "execution_count": 72,
            "metadata": {},
            "outputs": [
                {
                    "data": {
                        "text/html": [
                            "<div>\n",
                            "<style scoped>\n",
                            "    .dataframe tbody tr th:only-of-type {\n",
                            "        vertical-align: middle;\n",
                            "    }\n",
                            "\n",
                            "    .dataframe tbody tr th {\n",
                            "        vertical-align: top;\n",
                            "    }\n",
                            "\n",
                            "    .dataframe thead th {\n",
                            "        text-align: right;\n",
                            "    }\n",
                            "</style>\n",
                            "<table border=\"1\" class=\"dataframe\">\n",
                            "  <thead>\n",
                            "    <tr style=\"text-align: right;\">\n",
                            "      <th></th>\n",
                            "      <th>itemID</th>\n",
                            "      <th>score</th>\n",
                            "    </tr>\n",
                            "  </thead>\n",
                            "  <tbody>\n",
                            "    <tr>\n",
                            "      <th>0</th>\n",
                            "      <td>417</td>\n",
                            "      <td>0.999076</td>\n",
                            "    </tr>\n",
                            "    <tr>\n",
                            "      <th>1</th>\n",
                            "      <td>12</td>\n",
                            "      <td>0.998604</td>\n",
                            "    </tr>\n",
                            "    <tr>\n",
                            "      <th>2</th>\n",
                            "      <td>231</td>\n",
                            "      <td>0.998591</td>\n",
                            "    </tr>\n",
                            "    <tr>\n",
                            "      <th>3</th>\n",
                            "      <td>182</td>\n",
                            "      <td>0.998565</td>\n",
                            "    </tr>\n",
                            "    <tr>\n",
                            "      <th>4</th>\n",
                            "      <td>474</td>\n",
                            "      <td>0.998533</td>\n",
                            "    </tr>\n",
                            "    <tr>\n",
                            "      <th>5</th>\n",
                            "      <td>76</td>\n",
                            "      <td>0.998446</td>\n",
                            "    </tr>\n",
                            "    <tr>\n",
                            "      <th>6</th>\n",
                            "      <td>253</td>\n",
                            "      <td>0.998438</td>\n",
                            "    </tr>\n",
                            "    <tr>\n",
                            "      <th>7</th>\n",
                            "      <td>573</td>\n",
                            "      <td>0.998342</td>\n",
                            "    </tr>\n",
                            "    <tr>\n",
                            "      <th>8</th>\n",
                            "      <td>296</td>\n",
                            "      <td>0.998299</td>\n",
                            "    </tr>\n",
                            "    <tr>\n",
                            "      <th>9</th>\n",
                            "      <td>458</td>\n",
                            "      <td>0.998295</td>\n",
                            "    </tr>\n",
                            "  </tbody>\n",
                            "</table>\n",
                            "</div>"
                        ],
                        "text/plain": [
                            "   itemID     score\n",
                            "0     417  0.999076\n",
                            "1      12  0.998604\n",
                            "2     231  0.998591\n",
                            "3     182  0.998565\n",
                            "4     474  0.998533\n",
                            "5      76  0.998446\n",
                            "6     253  0.998438\n",
                            "7     573  0.998342\n",
                            "8     296  0.998299\n",
                            "9     458  0.998295"
                        ]
                    },
                    "execution_count": 72,
                    "metadata": {},
                    "output_type": "execute_result"
                }
            ],
            "source": [
                "similar_items(item_id=10, \n",
                "              item_features=item_features, \n",
                "              model=model2)"
            ]
        },
        {
            "cell_type": "markdown",
            "metadata": {},
            "source": [
                "## 6. Conclusion"
            ]
        },
        {
            "cell_type": "markdown",
            "metadata": {},
            "source": [
                "In this notebook, the background of Factorization Machine model has been explained together with a detailed example of LightFM's implementation. \n",
                "\n",
                "The process of incorporating additional user and item metadata has also been demonstrated with performance comparison. Furthermore, the calculation of both user and item affinity scores have also been demonstrated and extracted from the fitted model."
            ]
        },
        {
            "cell_type": "markdown",
            "metadata": {},
            "source": []
        }
    ],
    "metadata": {
        "kernelspec": {
            "display_name": "base",
            "language": "python",
            "name": "python3"
        },
        "language_info": {
            "codemirror_mode": {
                "name": "ipython",
                "version": 3
            },
            "file_extension": ".py",
            "mimetype": "text/x-python",
            "name": "python",
            "nbconvert_exporter": "python",
            "pygments_lexer": "ipython3",
            "version": "3.10.8"
        }
    },
    "nbformat": 4,
    "nbformat_minor": 4
}
