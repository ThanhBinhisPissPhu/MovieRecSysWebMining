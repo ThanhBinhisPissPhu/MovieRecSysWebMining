{
  "nbformat": 4,
  "nbformat_minor": 0,
  "metadata": {
    "colab": {
      "provenance": []
    },
    "kernelspec": {
      "name": "python3",
      "display_name": "Python 3"
    },
    "language_info": {
      "name": "python"
    }
  },
  "cells": [
    {
      "cell_type": "code",
      "execution_count": null,
      "metadata": {
        "id": "ByyTNmf69X6i"
      },
      "outputs": [],
      "source": []
    },
    {
      "cell_type": "code",
      "source": [
        "import pandas as pd\n",
        "from sklearn.metrics import precision_score, recall_score\n",
        "\n",
        "# Load the data (if it's in 'kk.csv')\n",
        "df = pd.read_csv('result.csv')\n",
        "\n",
        "\n",
        "# Group by user_id\n",
        "user_groups = df.groupby('user_id')\n",
        "\n",
        "# Initialize lists to store precision and recall\n",
        "precisions = []\n",
        "recalls = []\n",
        "\n",
        "# Iterate through each user's items\n",
        "for name in ['cold', 'wa', 'wb', 'wc']:\n",
        "  for user_id, group in user_groups:\n",
        "      # Sort the items for the user by the 'cold' column\n",
        "      sorted_items = group.sort_values(by=name, ascending=False)\n",
        "\n",
        "      # Assuming the ground truth is the items where the user rated 1\n",
        "      # Precision and recall based on sorted recommendations\n",
        "      # For example, take top N items as recommendations and calculate precision/recall\n",
        "\n",
        "      # For simplicity, we will take top 10 items (or all if less than 10)\n",
        "      top_n = sorted_items.head(10)\n",
        "      # print(top_n)\n",
        "\n",
        "      # True positives: Items rated 1 that are in the top-N\n",
        "      true_positives = top_n[top_n['rating'] == 1].shape[0]\n",
        "\n",
        "      # False positives: Items recommended but not rated 1\n",
        "      false_positives = top_n[top_n['rating'] != 1].shape[0]\n",
        "\n",
        "      # False negatives: Items rated 1 but not in the top-N\n",
        "      false_negatives = group.shape[0] - true_positives\n",
        "\n",
        "      # Precision and recall for the user\n",
        "      if true_positives + false_positives > 0:\n",
        "          precision = true_positives / (true_positives + false_positives)\n",
        "      else:\n",
        "          precision = 0\n",
        "\n",
        "      if true_positives + false_negatives > 0:\n",
        "          recall = true_positives / (true_positives + false_negatives)\n",
        "      else:\n",
        "          recall = 0\n",
        "\n",
        "      precisions.append(precision)\n",
        "      recalls.append(recall)\n",
        "\n",
        "  # Calculate average precision and recall\n",
        "  average_precision = sum(precisions) / len(precisions)\n",
        "  average_recall = sum(recalls) / len(recalls)\n",
        "  print(name)\n",
        "  print(f'Average Precision: {average_precision}')\n",
        "  print(f'Average Recall: {average_recall}')\n",
        "  print(\"=\"*20)\n"
      ],
      "metadata": {
        "colab": {
          "base_uri": "https://localhost:8080/"
        },
        "id": "bbSdxwl_--Uh",
        "outputId": "61abf2c3-b839-42a2-afba-6cec5151ccdd"
      },
      "execution_count": null,
      "outputs": [
        {
          "output_type": "stream",
          "name": "stdout",
          "text": [
            "cold\n",
            "Average Precision: 0.23245689931423416\n",
            "Average Recall: 0.1479402436669182\n",
            "====================\n",
            "wa\n",
            "Average Precision: 0.25089566109081585\n",
            "Average Recall: 0.1522373783198399\n",
            "====================\n",
            "wb\n",
            "Average Precision: 0.26045151573415426\n",
            "Average Recall: 0.15464191113288078\n",
            "====================\n",
            "wc\n",
            "Average Precision: 0.26543132730885194\n",
            "Average Recall: 0.1561212382136224\n",
            "====================\n"
          ]
        }
      ]
    },
    {
      "cell_type": "code",
      "source": [],
      "metadata": {
        "id": "Zx5pksKaDM6M"
      },
      "execution_count": null,
      "outputs": []
    }
  ]
}